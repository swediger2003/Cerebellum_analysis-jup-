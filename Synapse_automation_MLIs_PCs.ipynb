{
 "cells": [
  {
   "cell_type": "code",
   "execution_count": 3,
   "id": "edd04f12",
   "metadata": {},
   "outputs": [],
   "source": [
    "# Importing necessary packages\n",
    "import numpy as np\n",
    "import openpyxl as xl\n",
    "import matplotlib.pyplot as plt\n",
    "import pandas as pd\n",
    "import seaborn as sns\n",
    "import pickle\n"
   ]
  },
  {
   "cell_type": "code",
   "execution_count": 4,
   "id": "6292aac8",
   "metadata": {},
   "outputs": [
    {
     "name": "stdout",
     "output_type": "stream",
     "text": [
      "Requirement already satisfied: networkx==2.5 in c:\\users\\regehr2\\anaconda3\\lib\\site-packages (2.5)\n",
      "Requirement already satisfied: decorator>=4.3.0 in c:\\users\\regehr2\\anaconda3\\lib\\site-packages (from networkx==2.5) (5.1.1)\n"
     ]
    }
   ],
   "source": [
    "# Can only use read_gpickle with nertorkx 2.5\n",
    "!pip install networkx==2.5"
   ]
  },
  {
   "cell_type": "code",
   "execution_count": 5,
   "id": "44939e50",
   "metadata": {},
   "outputs": [],
   "source": [
    "# Importing graph of neurons and synapses as networkx graph from gz file\n",
    "import networkx as nx\n",
    "fname = 'db_mli_pc_231209_v2.gz'\n",
    "G = nx.read_gpickle(fname)"
   ]
  },
  {
   "cell_type": "code",
   "execution_count": 7,
   "id": "c257791d",
   "metadata": {},
   "outputs": [],
   "source": [
    "# Prints all nodes in graph\n",
    "def nodes(graph=G):\n",
    "    for nid in G.nodes:\n",
    "        print(f'{nid}: {G.nodes(data=True)[nid]}')\n",
    "        \n",
    "# nodes()"
   ]
  },
  {
   "cell_type": "code",
   "execution_count": 8,
   "id": "78cd6597",
   "metadata": {},
   "outputs": [],
   "source": [
    "# Example on how to get all out edges (synapses)of a neuron\n",
    "# list(G.out_edges('interneuron_225', data=True))"
   ]
  },
  {
   "cell_type": "code",
   "execution_count": 10,
   "id": "8e745b0d",
   "metadata": {},
   "outputs": [],
   "source": [
    "#print(G.adj['interneuron_81'].keys())"
   ]
  },
  {
   "cell_type": "code",
   "execution_count": 7,
   "id": "3dab329c",
   "metadata": {},
   "outputs": [],
   "source": [
    "# # Prints connections of neuron (no duplicates)\n",
    "# nid = 'interneuron_299'\n",
    "# print(f'postsyn of {nid}: {list(G.successors(nid))}')"
   ]
  },
  {
   "cell_type": "code",
   "execution_count": 11,
   "id": "2d3a7216",
   "metadata": {},
   "outputs": [],
   "source": [
    "# Function to lowercase keys if they contain \"interneuron\"\n",
    "def lowercase_keys_containing_interneuron(dictionary):\n",
    "    updated_dict = {}\n",
    "    for key, value in dictionary.items():\n",
    "        \n",
    "        if type(key) != float and 'nterneuron' in key:\n",
    "            updated_dict[key.lower()] = value\n",
    "        else:\n",
    "            updated_dict[key] = value\n",
    "    return updated_dict\n",
    "\n",
    "# Updating cell type database \n",
    "\n",
    "# Updating dictionary of cell type from csv file\n",
    "def update_dict(csv=r'C:\\Users\\regehr2\\HarvardMedProjects\\CellTypeDB.csv'):\n",
    "    #reding csv into pd df\n",
    "    data = pd.read_csv(csv)\n",
    "    # drop duplicates\n",
    "    data.drop_duplicates()\n",
    "    # Putting the df into dict\n",
    "    CellType_dict = dict(zip(data['Neuron_ID'], data['Cell Type']))\n",
    "    # Apply the function to the dictionary\n",
    "    CellType_dict = lowercase_keys_containing_interneuron(CellType_dict)\n",
    "    return CellType_dict\n",
    "\n",
    "CellType_dict = update_dict()\n",
    "    "
   ]
  },
  {
   "cell_type": "code",
   "execution_count": 12,
   "id": "27b1d7cf",
   "metadata": {},
   "outputs": [],
   "source": [
    "# Prints the connections between one neuron and one possible connections. Doesnt return anything just print out\n",
    "# synapses\n",
    "def connections(name_neuron, possible_connection, graph=G):\n",
    "    #Gets list of synanpses name_neuron makes\n",
    "    connects = list(graph.out_edges(name_neuron, data=True))\n",
    "\n",
    "    counter = 0\n",
    "    # loops through list and checks if possible connections is in there and if so prints it\n",
    "    for connection in connects:\n",
    "            if (connection[1] == possible_connection):\n",
    "                counter += 1\n",
    "                print(connection)\n",
    "            \n",
    "    # If no connections print no connections            \n",
    "    if (counter == 0):\n",
    "        print('No connections found between', name_neuron, 'and', \n",
    "        possible_connection)\n",
    "    counter = 0\n",
    "    \n",
    "# Same as connections but instead of printing connections, it appends them \n",
    "# to a list and returns the connections between one neuron and one possible connections\n",
    "def connections2(name_neuron, possible_connection, graph=G):\n",
    "    connects = list(graph.out_edges(name_neuron, data=True))\n",
    "    ret = []\n",
    "\n",
    "    counter = 0\n",
    "    for connection in connects:\n",
    "            if (connection[1] == possible_connection):\n",
    "                counter += 1\n",
    "#                 print(connection)\n",
    "                ret.append(connection)\n",
    "            \n",
    "                \n",
    "    \n",
    "    counter = 0\n",
    "    return ret\n",
    "\n",
    "# Prints the number of connections between a neuron\n",
    "# (name_neuron) and a target neuron (possible_connections)\n",
    "def numConnections(name_neuron, possible_connection, graph=G):\n",
    "    \n",
    "    connects = list(graph.out_edges(name_neuron, data=True))\n",
    "    numConnections = []\n",
    "    counter = 0\n",
    "    # Iterate through each outgoing connection from name_neuron\n",
    "    # Check if the target neuron of the connection matches possible_connection\n",
    "    for connection in connects:\n",
    "            if (connection[1] == possible_connection):\n",
    "                counter += 1        \n",
    "    # Print the result\n",
    "    print(\"Number of connections from\", name_neuron, \"to\", possible_connection, \":\", counter)\n",
    "            \n",
    "# Same thing as numConnections but returns result instead of printingit.       \n",
    "def numConnections2(name_neuron, possible_connection, graph=G):\n",
    "\n",
    "    connects = list(graph.out_edges(name_neuron, data=True))\n",
    "    numConnections = []\n",
    "    counter = 0\n",
    "    # Iterate through each outgoing connection from name_neuron\n",
    "    # Check if the target neuron of the connection matches possible_connection\n",
    "    for connection in connects:\n",
    "            if (connection[1] == possible_connection):\n",
    "                counter += 1        \n",
    "    return counter\n",
    "                    \n",
    "        \n",
    "# Prints all connections between each neuron in a list of\n",
    "# neurons and a certain other neuron (connect). Also prints # of connections are between the two    \n",
    "def check_all_connects(neurons, connect):\n",
    "    #iterate though list and run connections\n",
    "    for neuron in neurons:\n",
    "        connections(neuron, connect)\n",
    "        print(\"\")\n",
    "        \n",
    "    for neuron in neurons:\n",
    "        numConnections(neuron, connect)\n"
   ]
  },
  {
   "cell_type": "code",
   "execution_count": 15,
   "id": "29d18c34",
   "metadata": {},
   "outputs": [],
   "source": [
    "# Check all connections in networkx graph to one neuron. You can filter what celltype it is. Neuron is target,\n",
    "# filter_list is what you want to filter, sub is the cell type you want to filter for.\n",
    "def all_connections_to(neuron, filter_list=False, sub='', graph=G):\n",
    "    # all in edges\n",
    "    connects =list(graph.in_edges(neuron, data=True))\n",
    "    CellType_dict =  update_dict()  # Updating cellType dict\n",
    "    if filter_list:\n",
    "        # filters for grcs if sub is grc\n",
    "        if sub == 'grc':\n",
    "            \n",
    "            connects = [connection for connection in connects if sub\n",
    "                    in connection[0]]\n",
    "        # filteres for whatever sub is and also takes into account cell_type due to the nid not being directly\n",
    "        # representative of cell type\n",
    "        else:   \n",
    "            connects = [connection for connection in connects if sub.lower().replace(\" \", \"\")\n",
    "                        in CellType_dict.get(connection[0], '').lower().replace(\" \", \"\")]\n",
    "    print('Number of connections to', neuron, ':', len(connects))\n",
    "        \n",
    "    return connects\n",
    "            \n",
    "# Check all connections in networkx graph to one neuron. You can filter what celltype it is. Neuron is target,\n",
    "# filter_list is what you want to filter, sub is the cell type you want to filter for. Same as all_connections_to\n",
    "# but has condition where int has to be in nid\n",
    "def all_connections_to2(neuron, filter_list=False, sub='', graph=G):\n",
    "    connects = list(graph.in_edges(neuron, data=True))\n",
    "    CellType_dict = update_dict()\n",
    "    if filter_list:\n",
    "        # filters for grcs if sub is grc\n",
    "        if sub == 'grc':\n",
    "            \n",
    "            connects = [connection for connection in connects if sub\n",
    "                    in connection[0]]\n",
    "        # filteres for whatever sub is and also takes into account cell_type due to the nid not being directly\n",
    "        # representative of cell type\n",
    "        else:   \n",
    "            connects = [connection for connection in connects if (sub.lower().replace(\" \", \"\")\n",
    "                        in CellType_dict.get(connection[0], '').lower().replace(\" \", \"\") and 'int' in connection[0])]\n",
    "    print('Number of connections to', neuron, ':', len(connects))\n",
    "\n",
    "        \n",
    "    return connects\n",
    "            \n",
    "    "
   ]
  },
  {
   "cell_type": "code",
   "execution_count": 14,
   "id": "067268e1",
   "metadata": {},
   "outputs": [],
   "source": [
    "# Example filtering out in edges\n",
    "# all_connections_to('pc_50', True, 'mli')"
   ]
  },
  {
   "cell_type": "code",
   "execution_count": 13,
   "id": "77304d58",
   "metadata": {},
   "outputs": [],
   "source": [
    "neurons = ['interneuron_191',\n",
    "'interneuron_188',\n",
    "'interneuron_99',\n",
    "'interneuron_173',\n",
    "'interneuron_179',\n",
    "'interneuron_178',\n",
    "'interneuron_134',\n",
    "'interneuron_185',\n",
    "'interneuron_131',\n",
    "'interneuron_95',\n",
    "'interneuron_116',\n",
    "'interneuron_177',\n",
    "'interneuron_126'\n",
    "]"
   ]
  },
  {
   "cell_type": "code",
   "execution_count": 13,
   "id": "08c6069b",
   "metadata": {},
   "outputs": [],
   "source": [
    "# Example of check_all_connects\n",
    "# check_all_connects(neurons, 'pc_16')"
   ]
  },
  {
   "cell_type": "code",
   "execution_count": 15,
   "id": "e6bccff4",
   "metadata": {},
   "outputs": [],
   "source": [
    "# returns true or false if there is a connections between name_neuron and possible_connection\n",
    "def bool_check_connects(name_neuron, possible_connection, graph=G):\n",
    "    ret = False\n",
    "    # out edges of pre_syn target\n",
    "    connects = list(graph.out_edges(name_neuron, data=True))\n",
    "    numConnections = []\n",
    "    counter = 0\n",
    "    # Goes through out edges of name_neuron and sees if there are any connections to possible_connection\n",
    "    for connection in connects:\n",
    "            if (connection[1] == possible_connection):\n",
    "                counter += 1                      \n",
    "    if (counter > 0):\n",
    "        ret = True\n",
    "    return ret\n",
    "\n",
    "# print(bool_check_connects('interneuron_188', 'pc_16'))"
   ]
  },
  {
   "cell_type": "code",
   "execution_count": 16,
   "id": "f885caf1",
   "metadata": {},
   "outputs": [],
   "source": [
    "# This Checks if given name(nid) is a string or a list and handles writing any two cells if they have \n",
    "# no connection to xl file.\n",
    "def list_or_string_no_connection(name, sheet, possible_connection, row):\n",
    "    if isinstance(name, str):\n",
    "    # If name_neuron is a single string and there are no connections it prints out no connection\n",
    "    # in xl for just those cells\n",
    "        if not bool_check_connects(name, possible_connection):\n",
    "            sheet.cell(row=row, column=1, value=name)\n",
    "            sheet.cell(row=row, column=2, value=possible_connection)\n",
    "            sheet.cell(row=row, column=3, value='No Connection')\n",
    "            sheet.cell(row=row, column=4, value='No Connection')\n",
    "            row += 1\n",
    "            return row\n",
    "    else:\n",
    "        # If name_neuron is a list of strings then print out all non connections from list to target\n",
    "        for n in name:\n",
    "            if not bool_check_connects(n, possible_connection):\n",
    "                sheet.cell(row=row, column=1, value=n)\n",
    "                sheet.cell(row=row, column=2, value=possible_connection)\n",
    "                sheet.cell(row=row, column=3, value='No Connection')\n",
    "                sheet.cell(row=row, column=4, value='No Connection')\n",
    "                sheet.cell(row=row, column=5, value=CellType_dict.get(n))\n",
    "                row += 1\n",
    "    return row\n",
    "    "
   ]
  },
  {
   "cell_type": "code",
   "execution_count": 17,
   "id": "6fda536d",
   "metadata": {},
   "outputs": [],
   "source": [
    "# Opens an excel file and writes all the wanted data from connections\n",
    "# name neuron is list or single cell that is pre-syn, possible connections is post-syn target\n",
    "def automate_connections_id(name_neuron, possible_connection, xl_file_path, graph=G, col_number=1):\n",
    "    # updates cell types\n",
    "    CellType_dict = update_dict()\n",
    "    \n",
    "    # Activates spreadsheet and deletes anything that was already there.\n",
    "    # Sets row, col, gets list of all connections\n",
    "    \n",
    "    # excel_file_path = r'C:\\Users\\regehr2\\Downloads\\test-book.xlsx'\n",
    "    workbook = xl.load_workbook(xl_file_path)\n",
    "    row_number = 1\n",
    "    # out edges for pre-syn neuron\n",
    "    connects = list(graph.out_edges(name_neuron, data=True))\n",
    "    sheet = workbook.active\n",
    "    sheet.delete_cols(1, sheet.max_row)\n",
    "    sheet.delete_cols(2, sheet.max_row)\n",
    "    sheet.delete_cols(3, sheet.max_row)\n",
    "    sheet.delete_cols(4, sheet.max_row)\n",
    "    # Title row\n",
    "    sheet.cell(row=row_number, column=1, value='Neuron_ID')\n",
    "    sheet.cell(row=row_number, column=2, value='Connection')\n",
    "    sheet.cell(row=row_number, column=3, value='Coords of Synapse')\n",
    "    sheet.cell(row=row_number, column=4, value='Area')\n",
    "    sheet.cell(row=row_number, column=5, value='Cell Type')\n",
    "    row_number += 1\n",
    "    \n",
    "    # Goes through all neurons with no connection to possible_connection and writes no connection in \n",
    "    # spreadsheet\n",
    "    row_number = list_or_string_no_connection(name_neuron, sheet, possible_connection, row_number)\n",
    "    \n",
    "    \n",
    "    # Goes through list of connections of input(s) and filters out non wanted connections then\n",
    "    # writes it to sheet\n",
    "    for connection in connects: \n",
    "        if (connection[1] == possible_connection):\n",
    "                sheet.cell(row=row_number, column=col_number, value=connection[0])\n",
    "                sheet.cell(row=row_number, column=col_number + 1, value=connection[1])\n",
    "                sheet.cell(row=row_number, column=col_number, value=connection[0])\n",
    "                sheet.cell(row=row_number, column=col_number + 1, value=connection[1])\n",
    "                it = iter(connection[2].values())\n",
    "                coord_str, area = str(next(iter(it))), next(iter(it))\n",
    "                coord = coord_str.strip('(').strip(')')\n",
    "                sheet.cell(row=row_number, column=col_number + 2, value=coord)\n",
    "                sheet.cell(row=row_number, column=col_number + 3, value=area)\n",
    "                c_type = CellType_dict.get(connection[0])\n",
    "               \n",
    "                sheet.cell(row=row_number, column=col_number + 4, value=c_type)\n",
    "                \n",
    "                \n",
    "\n",
    "                row_number += 1\n",
    "       \n",
    "    # save workbook\n",
    "    workbook.save(xl_file_path)\n"
   ]
  },
  {
   "cell_type": "code",
   "execution_count": 19,
   "id": "6c6c18be",
   "metadata": {},
   "outputs": [],
   "source": [
    "# Goes through a list of neurons and writes all data from connections to each of those possible connections\n",
    "# to a given xl sheet path\n",
    "def automated_connections_list(loNeurons, wanted_connection, xl_path):\n",
    "#     for neuron in loNeurons:\n",
    "        automate_connections_id(loNeurons, wanted_connection, xl_path)\n",
    "        "
   ]
  },
  {
   "cell_type": "code",
   "execution_count": 20,
   "id": "b2836d45",
   "metadata": {
    "scrolled": true
   },
   "outputs": [],
   "source": [
    "# Testing if automate_connections_id works\n",
    "# automate_connections_id('interneuron_191', 'pc_16', r'C:\\Users\\regehr2\\Downloads\\test-book.xlsx')"
   ]
  },
  {
   "cell_type": "code",
   "execution_count": 21,
   "id": "dcddc9d0",
   "metadata": {},
   "outputs": [],
   "source": [
    "# Testing if automated_connections_list\n",
    "# automated_connections_list(neurons,'pc_16', r'C:\\Users\\regehr2\\Downloads\\test-book.xlsx')"
   ]
  },
  {
   "cell_type": "markdown",
   "id": "7a5b7f85",
   "metadata": {},
   "source": [
    "#  Visualizing pc_16 connections"
   ]
  },
  {
   "cell_type": "code",
   "execution_count": 22,
   "id": "a13ab2b9",
   "metadata": {},
   "outputs": [
    {
     "name": "stdout",
     "output_type": "stream",
     "text": [
      "   Cell Type  Connections\n",
      "0       MLI2            0\n",
      "1       MLI1           12\n",
      "2       MLI2            1\n",
      "3       MLI2            1\n",
      "4       MLI2            0\n",
      "5       MLI2            8\n",
      "6       MLI2            2\n",
      "7       MLI1            7\n",
      "8       MLI2            0\n",
      "9       MLI2            0\n",
      "10      MLI1           24\n",
      "11      MLI1           29\n",
      "12      MLI1            0\n"
     ]
    },
    {
     "data": {
      "image/png": "[encoded data removed]",
      "text/plain": [
       "<Figure size 640x480 with 1 Axes>"
      ]
     },
     "metadata": {},
     "output_type": "display_data"
    }
   ],
   "source": [
    "# Returns type of cell and number of times it connects with possible_connection. Name neuron has to be str\n",
    "def put_num_connections_df_helper(name_neuron, possible_connection, graph=G):\n",
    "    CellType_dict = update_dict()\n",
    "    # all out edges for name_neuron\n",
    "    connects = list(graph.out_edges(name_neuron, data=True))\n",
    "    counter = 0\n",
    "    type_num = []\n",
    "    # goes through connections and check how many times it synapses onto target cell.\n",
    "    for connection in connects:\n",
    "            if (connection[1] == possible_connection):\n",
    "                counter += 1   \n",
    "    #returns cell type and number of connections\n",
    "    type_num = [CellType_dict.get(name_neuron), counter]\n",
    "    return type_num\n",
    "    \n",
    "\n",
    "# put_num_connections_df_helper('interneuron_177', 'pc_16')\n",
    "\n",
    "# Puts the number of MLI1 vs MLI2 connections of a list of neurons to another neuron and creates a violin plot.\n",
    "# col1 and col2 used to name columns in df which is then used to plot data\n",
    "def put_num_connections_df_violin(neurons, possible_connection, col1, col2):\n",
    "    # uupdate cell type dict\n",
    "    CellType_dict = update_dict()\n",
    "    # columns of df\n",
    "    columns = [col1, col2]\n",
    "    whole_list = []\n",
    "    single_list = []\n",
    "    index = [0] * len(neurons)\n",
    "    \n",
    "    # puts all individual connection counts into a larger list\n",
    "    for i, neuron in enumerate(neurons):\n",
    "        single_list = put_num_connections_df_helper(neuron, possible_connection)\n",
    "        index[i] = i\n",
    "        whole_list.append(single_list)\n",
    "    \n",
    "    #puts whole_list into a pandas df\n",
    "    df = pd.DataFrame(whole_list, columns=columns, index=index)# #     df = pd.DataFrame(whole_dict)\n",
    "    print(df)\n",
    "\n",
    "    df.loc[df['Cell Type'] == 'MLI1', 'Cell Type'] = 'MLI 1'\n",
    "    df.loc[df['Cell Type'] == 'MLI2', 'Cell Type'] = 'MLI 2'\n",
    "    # Apply the function to the specified column\n",
    "    \n",
    "    \n",
    "    df = df.sort_values(by=['Cell Type'])\n",
    "    # wanted colors for cell types\n",
    "    colors = {'MLI 2' : '#73AF59', 'MLI 1' : '#FF00FF'}\n",
    "    \n",
    "    # Creating violin plot\n",
    "    sns.violinplot(x=col1, y=col2, data=df,  inner=None, palette=colors, scale='width')\n",
    "    sns.stripplot(x=col1, y=col2, data=df, color='black', size=4, jitter=False)\n",
    "    plt.title('Connections From ML1s and ML2s to '+ possible_connection )\n",
    "    plt.ylim(0, 60)\n",
    "    \n",
    "    plt.show()\n",
    "\n",
    "\n",
    "\n",
    "# put_num_connections_df_violin(neurons, 'pc_16', 'Cell Type', 'Connections')\n",
    "    "
   ]
  },
  {
   "cell_type": "markdown",
   "id": "eebab0da",
   "metadata": {},
   "source": [
    "# Interneuron Connections onto pc_35"
   ]
  },
  {
   "cell_type": "code",
   "execution_count": 23,
   "id": "aa6eff6e",
   "metadata": {},
   "outputs": [],
   "source": [
    "neuron_connections_pc35 = ['interneuron_258',\n",
    "'interneuron_298',\n",
    "'interneuron_276',\n",
    "'interneuron_299',\n",
    "'interneuron_38',\n",
    "'interneuron_269',\n",
    "'interneuron_284',\n",
    "'interneuron_43'\n",
    "]"
   ]
  },
  {
   "cell_type": "code",
   "execution_count": 2,
   "id": "6bebb071",
   "metadata": {},
   "outputs": [],
   "source": [
    "# check_all_connects(neuron_connections_pc35, 'pc_35')"
   ]
  },
  {
   "cell_type": "code",
   "execution_count": 24,
   "id": "91f16efe",
   "metadata": {},
   "outputs": [],
   "source": [
    "# Write data to spreadsheet to copy to main google sheets\n",
    "#automated_connections_list(neuron_connections_pc35,'pc_35', r'C:\\Users\\regehr2\\Downloads\\test-book.xlsx')"
   ]
  },
  {
   "cell_type": "markdown",
   "id": "fa7b4301",
   "metadata": {},
   "source": [
    "# Visualizing Connections onto PC_35"
   ]
  },
  {
   "cell_type": "markdown",
   "id": "654ac1dd",
   "metadata": {},
   "source": [
    "Make sure to update the dictionary/df"
   ]
  },
  {
   "cell_type": "code",
   "execution_count": 6,
   "id": "1f35fef1",
   "metadata": {},
   "outputs": [],
   "source": [
    "# Visualize contacts onto pc_35\n",
    "# put_num_connections_df_violin(neuron_connections_pc35, 'pc_35', 'Cell Type', 'Connections')"
   ]
  },
  {
   "cell_type": "markdown",
   "id": "951211c7",
   "metadata": {},
   "source": [
    "# Interneuron Connections onto pc_50"
   ]
  },
  {
   "cell_type": "code",
   "execution_count": 50,
   "id": "52976752",
   "metadata": {},
   "outputs": [],
   "source": [
    "neuron_connections_pc50 = ['interneuron_253',\n",
    "'interneuron_87',\n",
    "'interneuron_140'\n",
    "]"
   ]
  },
  {
   "cell_type": "code",
   "execution_count": 5,
   "id": "d66c3be8",
   "metadata": {},
   "outputs": [],
   "source": [
    "# check_all_connects(neuron_connections_pc50, 'pc_50')"
   ]
  },
  {
   "cell_type": "code",
   "execution_count": 52,
   "id": "c1c9b1ca",
   "metadata": {},
   "outputs": [],
   "source": [
    "#automated_connections_list(neuron_connections_pc50,'pc_50', r'C:\\Users\\regehr2\\Downloads\\test-book.xlsx')"
   ]
  },
  {
   "cell_type": "markdown",
   "id": "458ca732",
   "metadata": {},
   "source": [
    "# Visualizing connections onto pc_50"
   ]
  },
  {
   "cell_type": "code",
   "execution_count": 3,
   "id": "890eae83",
   "metadata": {},
   "outputs": [],
   "source": [
    "# put_num_connections_df_violin(neuron_connections_pc50, 'pc_50', 'Cell Type', 'Connections')"
   ]
  },
  {
   "cell_type": "markdown",
   "id": "950f2620",
   "metadata": {},
   "source": [
    "# Interneuron Connections onto pc_10"
   ]
  },
  {
   "cell_type": "code",
   "execution_count": 55,
   "id": "daa2deb7",
   "metadata": {},
   "outputs": [],
   "source": [
    "neuron_connections_pc10 = ['interneuron_167',\n",
    "'interneuron_160',\n",
    "'interneuron_157',\n",
    "'interneuron_169',\n",
    "'interneuron_256'\n",
    "]"
   ]
  },
  {
   "cell_type": "code",
   "execution_count": 7,
   "id": "5205abbe",
   "metadata": {},
   "outputs": [],
   "source": [
    "# check_all_connects(neuron_connections_pc10, 'pc_10')"
   ]
  },
  {
   "cell_type": "code",
   "execution_count": 8,
   "id": "bc6e42d4",
   "metadata": {},
   "outputs": [],
   "source": [
    "# automated_connections_list(neuron_connections_pc10,'pc_10', r'C:\\Users\\regehr2\\Downloads\\test-book.xlsx')"
   ]
  },
  {
   "cell_type": "markdown",
   "id": "14a686b9",
   "metadata": {},
   "source": [
    "# Visualizing Connections Onto pc_10"
   ]
  },
  {
   "cell_type": "code",
   "execution_count": 9,
   "id": "79ac9b13",
   "metadata": {},
   "outputs": [],
   "source": [
    "# put_num_connections_df_violin(neuron_connections_pc10, 'pc_10', 'Cell Type', 'Connections')"
   ]
  },
  {
   "cell_type": "markdown",
   "id": "c60cf720",
   "metadata": {},
   "source": []
  }
 ],
 "metadata": {
  "kernelspec": {
   "display_name": "Python 3 (ipykernel)",
   "language": "python",
   "name": "python3"
  },
  "language_info": {
   "codemirror_mode": {
    "name": "ipython",
    "version": 3
   },
   "file_extension": ".py",
   "mimetype": "text/x-python",
   "name": "python",
   "nbconvert_exporter": "python",
   "pygments_lexer": "ipython3",
   "version": "3.11.5"
  }
 },
 "nbformat": 4,
 "nbformat_minor": 5
}
